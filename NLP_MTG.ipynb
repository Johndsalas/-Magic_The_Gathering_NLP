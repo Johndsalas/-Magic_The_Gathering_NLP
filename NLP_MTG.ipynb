{
 "cells": [
  {
   "cell_type": "markdown",
   "metadata": {},
   "source": [
    "# Goals:\n",
    "\n",
    "**1. Develop a natural language processor capable of predicting the COLOR of a magic card based on the rules text of that card.**\n"
   ]
  },
  {
   "cell_type": "code",
   "execution_count": 1,
   "metadata": {},
   "outputs": [],
   "source": [
    "# imports and display options\n",
    "\n",
    "import pandas as pd\n",
    "import numpy as np\n",
    "import math\n",
    "from math import sqrt\n",
    "\n",
    "from sklearn.model_selection import train_test_split\n",
    "\n",
    "import seaborn as sns\n",
    "import matplotlib.pyplot as plt\n",
    "%matplotlib inline\n",
    "\n",
    "import warnings\n",
    "warnings.filterwarnings(\"ignore\")\n",
    "\n",
    "import unicodedata\n",
    "import re\n",
    "import nltk\n",
    "from nltk.corpus import stopwords\n",
    "\n",
    "import prepare as p\n",
    "import explore as e\n",
    "# import model as m\n",
    "\n",
    "pd.set_option('display.max_colwidth', -1)"
   ]
  },
  {
   "cell_type": "markdown",
   "metadata": {},
   "source": [
    "# Acquire\n",
    "\n",
    "* Used file from previouse \n",
    "* A CSV, containing an up to date breakdown of each card that has been printed so far, was obtained from MTGJSON.com\n",
    "* Each row represents a card or a version of a card\n",
    "* The CSV was read into a pandas dataframe\n",
    "* The original dataframe contained 51,430 rows and 73 columns"
   ]
  },
  {
   "cell_type": "markdown",
   "metadata": {},
   "source": [
    "# Prepare\n",
    "\n",
    "The following steps were taken to prepare the data:\n",
    "\n",
    "1. Restricted dataframe to relevant columns\n",
    " \n",
    "2. Restricted dataframe to rows containing cards that exist in physical form\n",
    "\n",
    "3. Restricted dataframe to rows containing a value for 'text'\n",
    "\n",
    "4. Restricted dataframe to rows with a single 'color identity' (see data dictionary Color)\n",
    "\n",
    "5. Dropped all columns other than text and color\n",
    "\n",
    "6. Renamed columns\n",
    "\n",
    "7. Changed some of the symble represintations to words to make them machine readable\n",
    "\n",
    "8. Applied basic cleaning to values in text by, lowercasing letters, converting to ASCII characters, removing non-letter characters, lemmatizeing the words, and removing stopwords\n",
    "\n",
    "9. Dropped duplicate rows\n",
    "\n",
    "10. Changed column order\n",
    "\n",
    "11. Wrote prepared data to ‘mtgprep.csv’ for ease of access. Data consisted of 15380 rows and two columns.\n",
    "\n",
    "12. Created a test and train group at a 20/80 split"
   ]
  },
  {
   "cell_type": "markdown",
   "metadata": {},
   "source": [
    "## Data Dictionary:\n",
    "\n",
    "* Magic: The Gathering\n",
    "    * a collectable card game developed by Wizards of the Coast Inc. In a typical game, each player combines a selection of cards from their collection into his or her own deck, which they use to compete against other players. Thematically, players assume the roles of powerful mages fighting for supremacy. Cards in each players deck represent spells and other resources each player’s disposal. A game typically ends when all but one of the participating players is reduced to zero “life” or is otherwise eliminated from the game.\n",
    "\n",
    "### Columns\n",
    "\n",
    "* Color\n",
    "    * Cards players use are divided into five different colors \n",
    "    * Each color is thematically distinct and the text of those cards reflects these differinces\n",
    "    * The color of each card was determined by the color of mana symbols that appear on each card, also called its color identity\n",
    "    * Cards with more than one color were excluded in hopes of giving the model a clearer distinction topredict on     <br />   "
   ]
  },
  {
   "cell_type": "code",
   "execution_count": 2,
   "metadata": {},
   "outputs": [],
   "source": [
    "# prepare data \n",
    "df = p.get_preped_data()\n",
    "\n",
    "#create test and train groups\n",
    "train, test = p.split_data(df)"
   ]
  },
  {
   "cell_type": "code",
   "execution_count": 3,
   "metadata": {},
   "outputs": [
    {
     "data": {
      "text/plain": [
       "(15380, 2)"
      ]
     },
     "execution_count": 3,
     "metadata": {},
     "output_type": "execute_result"
    }
   ],
   "source": [
    "df.shape"
   ]
  },
  {
   "cell_type": "markdown",
   "metadata": {},
   "source": [
    "# Explore"
   ]
  },
  {
   "cell_type": "code",
   "execution_count": 4,
   "metadata": {},
   "outputs": [
    {
     "data": {
      "text/html": [
       "<div>\n",
       "<style scoped>\n",
       "    .dataframe tbody tr th:only-of-type {\n",
       "        vertical-align: middle;\n",
       "    }\n",
       "\n",
       "    .dataframe tbody tr th {\n",
       "        vertical-align: top;\n",
       "    }\n",
       "\n",
       "    .dataframe thead th {\n",
       "        text-align: right;\n",
       "    }\n",
       "</style>\n",
       "<table border=\"1\" class=\"dataframe\">\n",
       "  <thead>\n",
       "    <tr style=\"text-align: right;\">\n",
       "      <th></th>\n",
       "      <th>color</th>\n",
       "      <th>text</th>\n",
       "    </tr>\n",
       "  </thead>\n",
       "  <tbody>\n",
       "    <tr>\n",
       "      <td>4849</td>\n",
       "      <td>Black</td>\n",
       "      <td>flying tap sacrifice phyrexian debaser target creature get minusandminus end turn</td>\n",
       "    </tr>\n",
       "    <tr>\n",
       "      <td>10892</td>\n",
       "      <td>Green</td>\n",
       "      <td>end turn target land becomes creature still land</td>\n",
       "    </tr>\n",
       "    <tr>\n",
       "      <td>10735</td>\n",
       "      <td>Black</td>\n",
       "      <td>choose creature type target creature get minusandminus end turn permanent chosen type control</td>\n",
       "    </tr>\n",
       "    <tr>\n",
       "      <td>14928</td>\n",
       "      <td>White</td>\n",
       "      <td>search library plain card target opponent control land may search library additional plain card reveal card put hand shuffle library</td>\n",
       "    </tr>\n",
       "    <tr>\n",
       "      <td>10354</td>\n",
       "      <td>White</td>\n",
       "      <td>long spectral guardian untapped noncreature artifact shroud target spell ability</td>\n",
       "    </tr>\n",
       "  </tbody>\n",
       "</table>\n",
       "</div>"
      ],
      "text/plain": [
       "       color  \\\n",
       "4849   Black   \n",
       "10892  Green   \n",
       "10735  Black   \n",
       "14928  White   \n",
       "10354  White   \n",
       "\n",
       "                                                                                                                                       text  \n",
       "4849   flying tap sacrifice phyrexian debaser target creature get minusandminus end turn                                                     \n",
       "10892  end turn target land becomes creature still land                                                                                      \n",
       "10735  choose creature type target creature get minusandminus end turn permanent chosen type control                                         \n",
       "14928  search library plain card target opponent control land may search library additional plain card reveal card put hand shuffle library  \n",
       "10354  long spectral guardian untapped noncreature artifact shroud target spell ability                                                      "
      ]
     },
     "execution_count": 4,
     "metadata": {},
     "output_type": "execute_result"
    }
   ],
   "source": [
    "train.head()"
   ]
  },
  {
   "cell_type": "code",
   "execution_count": 5,
   "metadata": {},
   "outputs": [
    {
     "data": {
      "text/html": [
       "<div>\n",
       "<style scoped>\n",
       "    .dataframe tbody tr th:only-of-type {\n",
       "        vertical-align: middle;\n",
       "    }\n",
       "\n",
       "    .dataframe tbody tr th {\n",
       "        vertical-align: top;\n",
       "    }\n",
       "\n",
       "    .dataframe thead th {\n",
       "        text-align: right;\n",
       "    }\n",
       "</style>\n",
       "<table border=\"1\" class=\"dataframe\">\n",
       "  <thead>\n",
       "    <tr style=\"text-align: right;\">\n",
       "      <th></th>\n",
       "      <th>n</th>\n",
       "      <th>percent</th>\n",
       "    </tr>\n",
       "  </thead>\n",
       "  <tbody>\n",
       "    <tr>\n",
       "      <td>Black</td>\n",
       "      <td>2495</td>\n",
       "      <td>0.202780</td>\n",
       "    </tr>\n",
       "    <tr>\n",
       "      <td>Blue</td>\n",
       "      <td>2465</td>\n",
       "      <td>0.200341</td>\n",
       "    </tr>\n",
       "    <tr>\n",
       "      <td>White</td>\n",
       "      <td>2462</td>\n",
       "      <td>0.200098</td>\n",
       "    </tr>\n",
       "    <tr>\n",
       "      <td>Red</td>\n",
       "      <td>2460</td>\n",
       "      <td>0.199935</td>\n",
       "    </tr>\n",
       "    <tr>\n",
       "      <td>Green</td>\n",
       "      <td>2422</td>\n",
       "      <td>0.196847</td>\n",
       "    </tr>\n",
       "  </tbody>\n",
       "</table>\n",
       "</div>"
      ],
      "text/plain": [
       "          n   percent\n",
       "Black  2495  0.202780\n",
       "Blue   2465  0.200341\n",
       "White  2462  0.200098\n",
       "Red    2460  0.199935\n",
       "Green  2422  0.196847"
      ]
     },
     "execution_count": 5,
     "metadata": {},
     "output_type": "execute_result"
    }
   ],
   "source": [
    "e.get_distribution(train)"
   ]
  },
  {
   "cell_type": "code",
   "execution_count": 6,
   "metadata": {},
   "outputs": [
    {
     "data": {
      "image/png": "[encoded data removed]",
      "text/plain": [
       "<Figure size 864x864 with 1 Axes>"
      ]
     },
     "metadata": {
      "needs_background": "light"
     },
     "output_type": "display_data"
    }
   ],
   "source": [
    "e.word_count(train)"
   ]
  },
  {
   "cell_type": "code",
   "execution_count": 7,
   "metadata": {},
   "outputs": [],
   "source": [
    "def word_soup(text):\n",
    "    '''\n",
    "    Turn text into list of words in text\n",
    "    '''\n",
    " \n",
    "    words = re.sub(r'[^\\w\\s]', '', text).split()\n",
    "    \n",
    "    return [word for word in words]"
   ]
  },
  {
   "cell_type": "code",
   "execution_count": 8,
   "metadata": {},
   "outputs": [],
   "source": [
    "all_words = word_soup(' '.join(train.text)) # create a list of all words in train.text\n",
    "\n",
    "# Create a list of all words appearing in cards of of a particular color\n",
    "blue_words = word_soup(' '.join(train[train.color == 'Blue'].text))\n",
    "green_words = word_soup(' '.join(train[train.color == 'Green'].text))\n",
    "red_words = word_soup(' '.join(train[train.color == 'Red'].text))\n",
    "white_words = word_soup(' '.join(train[train.color == 'White'].text))\n",
    "black_words = word_soup(' '.join(train[train.color == 'Black'].text))"
   ]
  },
  {
   "cell_type": "code",
   "execution_count": 12,
   "metadata": {},
   "outputs": [],
   "source": [
    "# create list of bigrams for all cards and cards belonging to a given color group\n",
    "all_bigrams = pd.Series(nltk.ngrams(all_words, 2))\n",
    "blue_bigrams = pd.Series(nltk.ngrams(blue_words, 2))\n",
    "green_bigrams = pd.Series(nltk.ngrams(green_words, 2))\n",
    "red_bigrams = pd.Series(nltk.ngrams(red_words, 2))\n",
    "white_bigrams = pd.Series(nltk.ngrams(white_words, 2))\n",
    "black_bigrams = pd.Series(nltk.ngrams(black_words, 2))"
   ]
  },
  {
   "cell_type": "code",
   "execution_count": 14,
   "metadata": {},
   "outputs": [
    {
     "data": {
      "text/plain": [
       "(target, creature)       2255\n",
       "(end, turn)              2213\n",
       "(enters, battlefield)    2186\n",
       "(get, plusandplus)       1601\n",
       "(deal, damage)           1386\n",
       "                         ... \n",
       "(control, infect)        1   \n",
       "(weaver, enters)         1   \n",
       "(tar, pitcher)           1   \n",
       "(dragon, breath)         1   \n",
       "(spell, sculpture)       1   \n",
       "Length: 35649, dtype: int64"
      ]
     },
     "execution_count": 14,
     "metadata": {},
     "output_type": "execute_result"
    }
   ],
   "source": [
    "all_bigrams = pd.Series(nltk.ngrams(all_words, 2))\n",
    "blue_bigrams = pd.Series(nltk.ngrams(blue_words, 2))\n",
    "green_bigrams = pd.Series(nltk.ngrams(green_words, 2))\n",
    "red_bigrams = pd.Series(nltk.ngrams(red_words, 2))\n",
    "white_bigrams = pd.Series(nltk.ngrams(white_words, 2))\n",
    "black_bigrams = pd.Series(nltk.ngrams(black_words, 2))\n",
    "\n",
    "all_bigrams.value_counts()"
   ]
  },
  {
   "cell_type": "code",
   "execution_count": null,
   "metadata": {},
   "outputs": [],
   "source": []
  }
 ],
 "metadata": {
  "kernelspec": {
   "display_name": "Python 3",
   "language": "python",
   "name": "python3"
  },
  "language_info": {
   "codemirror_mode": {
    "name": "ipython",
    "version": 3
   },
   "file_extension": ".py",
   "mimetype": "text/x-python",
   "name": "python",
   "nbconvert_exporter": "python",
   "pygments_lexer": "ipython3",
   "version": "3.7.4"
  }
 },
 "nbformat": 4,
 "nbformat_minor": 2
}
