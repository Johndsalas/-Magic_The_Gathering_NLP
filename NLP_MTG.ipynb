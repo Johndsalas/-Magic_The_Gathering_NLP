{
 "cells": [
  {
   "cell_type": "markdown",
   "metadata": {},
   "source": [
    "# Goals:\n",
    "\n",
    "**1. Develop a natural language processor capable of predicting the COLOR of a magic card based on the rules text of that card.**\n"
   ]
  },
  {
   "cell_type": "code",
   "execution_count": 1,
   "metadata": {},
   "outputs": [],
   "source": [
    "# imports and display options\n",
    "\n",
    "import pandas as pd\n",
    "import numpy as np\n",
    "import math\n",
    "from math import sqrt\n",
    "\n",
    "from sklearn.model_selection import train_test_split\n",
    "\n",
    "import seaborn as sns\n",
    "import matplotlib.pyplot as plt\n",
    "%matplotlib inline\n",
    "\n",
    "import warnings\n",
    "warnings.filterwarnings(\"ignore\")\n",
    "\n",
    "import unicodedata\n",
    "import re\n",
    "import nltk\n",
    "from nltk.corpus import stopwords\n",
    "\n",
    "import prepare as p\n",
    "import explore as e\n",
    "# import model as m\n",
    "\n",
    "pd.set_option('display.max_colwidth', -1)"
   ]
  },
  {
   "cell_type": "markdown",
   "metadata": {},
   "source": [
    "# Acquire\n",
    "\n",
    "* Used file from previouse \n",
    "* A CSV, containing an up to date breakdown of each card that has been printed so far, was obtained from MTGJSON.com\n",
    "* Each row represents a card or a version of a card\n",
    "* The CSV was read into a pandas dataframe\n",
    "* The original dataframe contained 51,430 rows and 73 columns"
   ]
  },
  {
   "cell_type": "markdown",
   "metadata": {},
   "source": [
    "# Prepare\n",
    "\n",
    "The following steps were taken to prepare the data:\n",
    "\n",
    "1. Restricted dataframe to relevant columns\n",
    " \n",
    "2. Restricted dataframe to rows containing cards that exist in physical form\n",
    "\n",
    "3. Restricted dataframe to rows containing a value for 'text'\n",
    "\n",
    "4. Restricted dataframe to rows with a single 'color identity' (see data dictionary Color)\n",
    "\n",
    "5. Dropped all columns other than text and color\n",
    "\n",
    "6. Renamed columns\n",
    "\n",
    "7. Changed some of the symble represintations to words to make them machine readable\n",
    "\n",
    "8. Applied basic cleaning to values in text by, lowercasing letters, converting to ASCII characters, removing non-letter characters, lemmatizeing the words, and removing stopwords\n",
    "\n",
    "9. Dropped duplicate rows\n",
    "\n",
    "10. Changed column order\n",
    "\n",
    "11. Wrote prepared data to ‘mtgprep.csv’ for ease of access. Data consisted of 15380 rows and two columns.\n",
    "\n",
    "12. Created a test and train group at a 20/80 split"
   ]
  },
  {
   "cell_type": "markdown",
   "metadata": {},
   "source": [
    "## Data Dictionary:\n",
    "\n",
    "* Magic: The Gathering\n",
    "    * a collectable card game developed by Wizards of the Coast Inc. In a typical game, each player combines a selection of cards from their collection into his or her own deck, which they use to compete against other players. Thematically, players assume the roles of powerful mages fighting for supremacy. Cards in each players deck represent spells and other resources each player’s disposal. A game typically ends when all but one of the participating players is reduced to zero “life” or is otherwise eliminated from the game.\n",
    "\n",
    "### Columns\n",
    "\n",
    "* Color\n",
    "    * Spells players can cast are divided into five different colors Each color is thematically distinct\n",
    "    * White represents order and morality\n",
    "    * Blue represents cunning and technology\n",
    "    * Black represents pragmatism and amorality\n",
    "    * Red represents impulse and chaos\n",
    "    * Green represents nature and instinct\n",
    "    * Spells with more than one color were excluded for the study to give a clearer picture of sentiment values for each color\n",
    "    * The color or colors each spell had was determined by the color of mana symbols that appear on each card, also called its color identity\n",
    "    <br />   \n",
    "    \n",
    "    \n",
    "* Text\n",
    "    * The value in text represents the rules text appearing on one Magic the Gathering card"
   ]
  },
  {
   "cell_type": "code",
   "execution_count": 2,
   "metadata": {},
   "outputs": [],
   "source": [
    "# prepare data \n",
    "df = p.get_preped_data()\n",
    "\n",
    "#create test and train groups\n",
    "train, test = p.split_data(df)"
   ]
  },
  {
   "cell_type": "markdown",
   "metadata": {},
   "source": [
    "# Explore"
   ]
  },
  {
   "cell_type": "code",
   "execution_count": 3,
   "metadata": {},
   "outputs": [
    {
     "data": {
      "text/html": [
       "<div>\n",
       "<style scoped>\n",
       "    .dataframe tbody tr th:only-of-type {\n",
       "        vertical-align: middle;\n",
       "    }\n",
       "\n",
       "    .dataframe tbody tr th {\n",
       "        vertical-align: top;\n",
       "    }\n",
       "\n",
       "    .dataframe thead th {\n",
       "        text-align: right;\n",
       "    }\n",
       "</style>\n",
       "<table border=\"1\" class=\"dataframe\">\n",
       "  <thead>\n",
       "    <tr style=\"text-align: right;\">\n",
       "      <th></th>\n",
       "      <th>n</th>\n",
       "      <th>percent</th>\n",
       "    </tr>\n",
       "  </thead>\n",
       "  <tbody>\n",
       "    <tr>\n",
       "      <td>Black</td>\n",
       "      <td>2495</td>\n",
       "      <td>0.202780</td>\n",
       "    </tr>\n",
       "    <tr>\n",
       "      <td>Blue</td>\n",
       "      <td>2465</td>\n",
       "      <td>0.200341</td>\n",
       "    </tr>\n",
       "    <tr>\n",
       "      <td>White</td>\n",
       "      <td>2462</td>\n",
       "      <td>0.200098</td>\n",
       "    </tr>\n",
       "    <tr>\n",
       "      <td>Red</td>\n",
       "      <td>2460</td>\n",
       "      <td>0.199935</td>\n",
       "    </tr>\n",
       "    <tr>\n",
       "      <td>Green</td>\n",
       "      <td>2422</td>\n",
       "      <td>0.196847</td>\n",
       "    </tr>\n",
       "  </tbody>\n",
       "</table>\n",
       "</div>"
      ],
      "text/plain": [
       "          n   percent\n",
       "Black  2495  0.202780\n",
       "Blue   2465  0.200341\n",
       "White  2462  0.200098\n",
       "Red    2460  0.199935\n",
       "Green  2422  0.196847"
      ]
     },
     "execution_count": 3,
     "metadata": {},
     "output_type": "execute_result"
    }
   ],
   "source": [
    "e.get_distribution(train)"
   ]
  },
  {
   "cell_type": "code",
   "execution_count": 4,
   "metadata": {},
   "outputs": [
    {
     "data": {
      "image/png": "[encoded data removed]",
      "text/plain": [
       "<Figure size 720x720 with 1 Axes>"
      ]
     },
     "metadata": {
      "needs_background": "light"
     },
     "output_type": "display_data"
    }
   ],
   "source": [
    "e.word_count(train)"
   ]
  },
  {
   "cell_type": "code",
   "execution_count": null,
   "metadata": {},
   "outputs": [],
   "source": []
  },
  {
   "cell_type": "code",
   "execution_count": null,
   "metadata": {},
   "outputs": [],
   "source": []
  },
  {
   "cell_type": "code",
   "execution_count": null,
   "metadata": {},
   "outputs": [],
   "source": []
  },
  {
   "cell_type": "code",
   "execution_count": null,
   "metadata": {},
   "outputs": [],
   "source": []
  }
 ],
 "metadata": {
  "kernelspec": {
   "display_name": "Python 3",
   "language": "python",
   "name": "python3"
  },
  "language_info": {
   "codemirror_mode": {
    "name": "ipython",
    "version": 3
   },
   "file_extension": ".py",
   "mimetype": "text/x-python",
   "name": "python",
   "nbconvert_exporter": "python",
   "pygments_lexer": "ipython3",
   "version": "3.7.4"
  }
 },
 "nbformat": 4,
 "nbformat_minor": 2
}
