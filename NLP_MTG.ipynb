{
 "cells": [
  {
   "cell_type": "markdown",
   "metadata": {},
   "source": [
    "# Goals:\n",
    "\n",
    "**1. Develop a natural language processor capable of predicting the COLOR of a magic card based on the rules text of that card.**\n",
    "\n",
    "**2. Develop a natural language processor capable of predicting the TYPE of a magic card based on the rules text of that card.**"
   ]
  },
  {
   "cell_type": "code",
   "execution_count": 1,
   "metadata": {},
   "outputs": [],
   "source": [
    "# imports and display options\n",
    "import pandas as pd\n",
    "import numpy as np\n",
    "import math\n",
    "from math import sqrt\n",
    "\n",
    "from sklearn.preprocessing import LabelEncoder, OneHotEncoder\n",
    "from sklearn.linear_model import LinearRegression\n",
    "from sklearn.metrics import mean_squared_error, explained_variance_score\n",
    "\n",
    "import seaborn as sns\n",
    "import matplotlib.pyplot as plt\n",
    "%matplotlib inline\n",
    "\n",
    "import warnings\n",
    "warnings.filterwarnings(\"ignore\")\n",
    "\n",
    "import prepare as p\n",
    "# import explore as e\n",
    "# import model as m\n",
    "\n",
    "#pd.set_option('display.max_colwidth', -1)"
   ]
  },
  {
   "cell_type": "markdown",
   "metadata": {},
   "source": [
    "# Acquire\n",
    "\n",
    "* Used file from previouse \n",
    "* A CSV, containing an up to date breakdown of each card that has been printed so far, was obtained from MTGJSON.com\n",
    "* Each row represents a card or a version of a card\n",
    "* The CSV was read into a pandas dataframe\n",
    "* The original dataframe contained 50,412 rows and 71 columns"
   ]
  },
  {
   "cell_type": "markdown",
   "metadata": {},
   "source": [
    "# Prepare (beginning)\n",
    "\n",
    "The following steps were taken to prepare the data:\n",
    "\n",
    "1. Restricted dataframe to relevant columns\n",
    " \n",
    "2. Restricted dataframe to rows containing cards that exist in physical form\n",
    "\n",
    "3. Restricted dataframe to row containing a flavor text\n",
    "\n",
    "4. Restricted dataframe to rows with a single 'color identity' (see data dictionary Color)\n",
    "\n",
    "5. Merged rows containing multiple similer types into one of the seven major game types\n",
    "\n",
    "6. Dropped rows containing multiple types that could not be merged\n",
    "\n",
    "7. Cleaned up flavor text by removing quote attributions so could merge on flavor text and eliminate most of the duplicates \n",
    "\n",
    "8. Reordered columns\n",
    "\n",
    "9. Dropped rows where the flavor text was not in english \n",
    "\n",
    "10. Dropped duplicate rows (I dropped all that I could find it is possible that some duplicates remain.)\n",
    "\n",
    "11. Added sentiment column showing compound sentiment score using VADER\n",
    "\n",
    "12. Added intensity column showing the absolute value of sentiment\n",
    "\n",
    "13. Renamed columns\n",
    "\n",
    "14. Rounded number values in the data frame to two decimals\t\n",
    "\n",
    "15. Wrote prepared data to ‘mtgprep.csv’ for ease of access"
   ]
  },
  {
   "cell_type": "code",
   "execution_count": 2,
   "metadata": {},
   "outputs": [],
   "source": [
    "df = p.wrangle_mtg()"
   ]
  },
  {
   "cell_type": "code",
   "execution_count": 3,
   "metadata": {},
   "outputs": [
    {
     "data": {
      "text/plain": [
       "(50412, 71)"
      ]
     },
     "execution_count": 3,
     "metadata": {},
     "output_type": "execute_result"
    }
   ],
   "source": [
    "df.shape"
   ]
  },
  {
   "cell_type": "code",
   "execution_count": 4,
   "metadata": {},
   "outputs": [
    {
     "data": {
      "text/plain": [
       "Index(['index', 'id', 'artist', 'borderColor', 'colorIdentity',\n",
       "       'colorIndicator', 'colors', 'convertedManaCost', 'duelDeck',\n",
       "       'edhrecRank', 'faceConvertedManaCost', 'flavorText', 'frameEffect',\n",
       "       'frameEffects', 'frameVersion', 'hand', 'hasFoil', 'hasNoDeckLimit',\n",
       "       'hasNonFoil', 'isAlternative', 'isArena', 'isBuyABox', 'isDateStamped',\n",
       "       'isFullArt', 'isMtgo', 'isOnlineOnly', 'isOversized', 'isPaper',\n",
       "       'isPromo', 'isReprint', 'isReserved', 'isStarter', 'isStorySpotlight',\n",
       "       'isTextless', 'isTimeshifted', 'layout', 'leadershipSkills', 'life',\n",
       "       'loyalty', 'manaCost', 'mcmId', 'mcmMetaId', 'mtgArenaId', 'mtgoFoilId',\n",
       "       'mtgoId', 'multiverseId', 'name', 'names', 'number', 'originalText',\n",
       "       'originalType', 'otherFaceIds', 'power', 'printings', 'purchaseUrls',\n",
       "       'rarity', 'scryfallId', 'scryfallIllustrationId', 'scryfallOracleId',\n",
       "       'setCode', 'side', 'subtypes', 'supertypes', 'tcgplayerProductId',\n",
       "       'text', 'toughness', 'type', 'types', 'uuid', 'variations',\n",
       "       'watermark'],\n",
       "      dtype='object')"
      ]
     },
     "execution_count": 4,
     "metadata": {},
     "output_type": "execute_result"
    }
   ],
   "source": [
    "df.columns"
   ]
  },
  {
   "cell_type": "code",
   "execution_count": 5,
   "metadata": {},
   "outputs": [],
   "source": [
    "df = df[['name','colorIdentity','isPaper','types','text']]\n",
    "\n",
    "df = df[df.isPaper==1]\n",
    "df = df.drop(columns='isPaper')\n",
    "\n",
    "df = df[df.text.notna()]"
   ]
  },
  {
   "cell_type": "code",
   "execution_count": 6,
   "metadata": {},
   "outputs": [
    {
     "data": {
      "text/html": [
       "<div>\n",
       "<style scoped>\n",
       "    .dataframe tbody tr th:only-of-type {\n",
       "        vertical-align: middle;\n",
       "    }\n",
       "\n",
       "    .dataframe tbody tr th {\n",
       "        vertical-align: top;\n",
       "    }\n",
       "\n",
       "    .dataframe thead th {\n",
       "        text-align: right;\n",
       "    }\n",
       "</style>\n",
       "<table border=\"1\" class=\"dataframe\">\n",
       "  <thead>\n",
       "    <tr style=\"text-align: right;\">\n",
       "      <th></th>\n",
       "      <th>name</th>\n",
       "      <th>colorIdentity</th>\n",
       "      <th>types</th>\n",
       "      <th>text</th>\n",
       "    </tr>\n",
       "  </thead>\n",
       "  <tbody>\n",
       "    <tr>\n",
       "      <td>0</td>\n",
       "      <td>Abundance</td>\n",
       "      <td>G</td>\n",
       "      <td>Enchantment</td>\n",
       "      <td>If you would draw a card, you may instead choo...</td>\n",
       "    </tr>\n",
       "    <tr>\n",
       "      <td>1</td>\n",
       "      <td>Academy Researchers</td>\n",
       "      <td>U</td>\n",
       "      <td>Creature</td>\n",
       "      <td>When Academy Researchers enters the battlefiel...</td>\n",
       "    </tr>\n",
       "    <tr>\n",
       "      <td>2</td>\n",
       "      <td>Adarkar Wastes</td>\n",
       "      <td>U,W</td>\n",
       "      <td>Land</td>\n",
       "      <td>{T}: Add {C}.\\n{T}: Add {W} or {U}. Adarkar Wa...</td>\n",
       "    </tr>\n",
       "    <tr>\n",
       "      <td>3</td>\n",
       "      <td>Afflict</td>\n",
       "      <td>B</td>\n",
       "      <td>Instant</td>\n",
       "      <td>Target creature gets -1/-1 until end of turn.\\...</td>\n",
       "    </tr>\n",
       "    <tr>\n",
       "      <td>4</td>\n",
       "      <td>Aggressive Urge</td>\n",
       "      <td>G</td>\n",
       "      <td>Instant</td>\n",
       "      <td>Target creature gets +1/+1 until end of turn.\\...</td>\n",
       "    </tr>\n",
       "  </tbody>\n",
       "</table>\n",
       "</div>"
      ],
      "text/plain": [
       "                  name colorIdentity        types  \\\n",
       "0            Abundance             G  Enchantment   \n",
       "1  Academy Researchers             U     Creature   \n",
       "2       Adarkar Wastes           U,W         Land   \n",
       "3              Afflict             B      Instant   \n",
       "4      Aggressive Urge             G      Instant   \n",
       "\n",
       "                                                text  \n",
       "0  If you would draw a card, you may instead choo...  \n",
       "1  When Academy Researchers enters the battlefiel...  \n",
       "2  {T}: Add {C}.\\n{T}: Add {W} or {U}. Adarkar Wa...  \n",
       "3  Target creature gets -1/-1 until end of turn.\\...  \n",
       "4  Target creature gets +1/+1 until end of turn.\\...  "
      ]
     },
     "execution_count": 6,
     "metadata": {},
     "output_type": "execute_result"
    }
   ],
   "source": [
    "df.head(5)"
   ]
  },
  {
   "cell_type": "code",
   "execution_count": 7,
   "metadata": {},
   "outputs": [],
   "source": [
    "# use only cards with a single color identity \n",
    "colors = ['W','U','B','R','G']\n",
    "df_color = df.loc[df.colorIdentity.isin(colors)]"
   ]
  },
  {
   "cell_type": "code",
   "execution_count": 8,
   "metadata": {},
   "outputs": [
    {
     "data": {
      "text/html": [
       "<div>\n",
       "<style scoped>\n",
       "    .dataframe tbody tr th:only-of-type {\n",
       "        vertical-align: middle;\n",
       "    }\n",
       "\n",
       "    .dataframe tbody tr th {\n",
       "        vertical-align: top;\n",
       "    }\n",
       "\n",
       "    .dataframe thead th {\n",
       "        text-align: right;\n",
       "    }\n",
       "</style>\n",
       "<table border=\"1\" class=\"dataframe\">\n",
       "  <thead>\n",
       "    <tr style=\"text-align: right;\">\n",
       "      <th></th>\n",
       "      <th>name</th>\n",
       "      <th>types</th>\n",
       "      <th>text</th>\n",
       "    </tr>\n",
       "  </thead>\n",
       "  <tbody>\n",
       "    <tr>\n",
       "      <td>0</td>\n",
       "      <td>Abundance</td>\n",
       "      <td>Enchantment</td>\n",
       "      <td>If you would draw a card, you may instead choo...</td>\n",
       "    </tr>\n",
       "    <tr>\n",
       "      <td>1</td>\n",
       "      <td>Academy Researchers</td>\n",
       "      <td>Creature</td>\n",
       "      <td>When Academy Researchers enters the battlefiel...</td>\n",
       "    </tr>\n",
       "    <tr>\n",
       "      <td>2</td>\n",
       "      <td>Adarkar Wastes</td>\n",
       "      <td>Land</td>\n",
       "      <td>{T}: Add {C}.\\n{T}: Add {W} or {U}. Adarkar Wa...</td>\n",
       "    </tr>\n",
       "    <tr>\n",
       "      <td>3</td>\n",
       "      <td>Afflict</td>\n",
       "      <td>Instant</td>\n",
       "      <td>Target creature gets -1/-1 until end of turn.\\...</td>\n",
       "    </tr>\n",
       "    <tr>\n",
       "      <td>4</td>\n",
       "      <td>Aggressive Urge</td>\n",
       "      <td>Instant</td>\n",
       "      <td>Target creature gets +1/+1 until end of turn.\\...</td>\n",
       "    </tr>\n",
       "    <tr>\n",
       "      <td>...</td>\n",
       "      <td>...</td>\n",
       "      <td>...</td>\n",
       "      <td>...</td>\n",
       "    </tr>\n",
       "    <tr>\n",
       "      <td>50407</td>\n",
       "      <td>Windborne Charge</td>\n",
       "      <td>Sorcery</td>\n",
       "      <td>Two target creatures you control each get +2/+...</td>\n",
       "    </tr>\n",
       "    <tr>\n",
       "      <td>50408</td>\n",
       "      <td>Windrider Eel</td>\n",
       "      <td>Creature</td>\n",
       "      <td>Flying\\nLandfall — Whenever a land enters the ...</td>\n",
       "    </tr>\n",
       "    <tr>\n",
       "      <td>50409</td>\n",
       "      <td>World Queller</td>\n",
       "      <td>Creature</td>\n",
       "      <td>At the beginning of your upkeep, you may choos...</td>\n",
       "    </tr>\n",
       "    <tr>\n",
       "      <td>50410</td>\n",
       "      <td>Zektar Shrine Expedition</td>\n",
       "      <td>Enchantment</td>\n",
       "      <td>Landfall — Whenever a land enters the battlefi...</td>\n",
       "    </tr>\n",
       "    <tr>\n",
       "      <td>50411</td>\n",
       "      <td>Zendikar Farguide</td>\n",
       "      <td>Creature</td>\n",
       "      <td>Forestwalk (This creature can't be blocked as ...</td>\n",
       "    </tr>\n",
       "  </tbody>\n",
       "</table>\n",
       "<p>42084 rows × 3 columns</p>\n",
       "</div>"
      ],
      "text/plain": [
       "                           name        types  \\\n",
       "0                     Abundance  Enchantment   \n",
       "1           Academy Researchers     Creature   \n",
       "2                Adarkar Wastes         Land   \n",
       "3                       Afflict      Instant   \n",
       "4               Aggressive Urge      Instant   \n",
       "...                         ...          ...   \n",
       "50407          Windborne Charge      Sorcery   \n",
       "50408             Windrider Eel     Creature   \n",
       "50409             World Queller     Creature   \n",
       "50410  Zektar Shrine Expedition  Enchantment   \n",
       "50411         Zendikar Farguide     Creature   \n",
       "\n",
       "                                                    text  \n",
       "0      If you would draw a card, you may instead choo...  \n",
       "1      When Academy Researchers enters the battlefiel...  \n",
       "2      {T}: Add {C}.\\n{T}: Add {W} or {U}. Adarkar Wa...  \n",
       "3      Target creature gets -1/-1 until end of turn.\\...  \n",
       "4      Target creature gets +1/+1 until end of turn.\\...  \n",
       "...                                                  ...  \n",
       "50407  Two target creatures you control each get +2/+...  \n",
       "50408  Flying\\nLandfall — Whenever a land enters the ...  \n",
       "50409  At the beginning of your upkeep, you may choos...  \n",
       "50410  Landfall — Whenever a land enters the battlefi...  \n",
       "50411  Forestwalk (This creature can't be blocked as ...  \n",
       "\n",
       "[42084 rows x 3 columns]"
      ]
     },
     "execution_count": 8,
     "metadata": {},
     "output_type": "execute_result"
    }
   ],
   "source": [
    "df['types'] = np.where(df['types'] == 'Tribal,Instant', 'Instant', df['types'])\n",
    "\n",
    "df['types'] = np.where(df['types'] == 'Tribal,Sorcery', 'Sorcery', df['types'])\n",
    "\n",
    "df['types'] = np.where(df['types'] == 'Tribal,Enchantment', 'Enchantment', df['types'])\n",
    "\n",
    "df['types'] = np.where(df['types'] == 'instant', 'Instant', df['types'])\n",
    "\n",
    "# remove remaining cards that are not exclusive to one of the seven card types\n",
    "types = ['Creature','Instant','Sorcery','Enchantment','Land','Artifact','Planeswalker']\n",
    "df_type = df.loc[df.types.isin(types)]\n",
    "df_type.drop(columns='colorIdentity')"
   ]
  },
  {
   "cell_type": "code",
   "execution_count": 9,
   "metadata": {},
   "outputs": [
    {
     "data": {
      "text/html": [
       "<div>\n",
       "<style scoped>\n",
       "    .dataframe tbody tr th:only-of-type {\n",
       "        vertical-align: middle;\n",
       "    }\n",
       "\n",
       "    .dataframe tbody tr th {\n",
       "        vertical-align: top;\n",
       "    }\n",
       "\n",
       "    .dataframe thead th {\n",
       "        text-align: right;\n",
       "    }\n",
       "</style>\n",
       "<table border=\"1\" class=\"dataframe\">\n",
       "  <thead>\n",
       "    <tr style=\"text-align: right;\">\n",
       "      <th></th>\n",
       "      <th>name</th>\n",
       "      <th>colorIdentity</th>\n",
       "      <th>types</th>\n",
       "      <th>text</th>\n",
       "    </tr>\n",
       "  </thead>\n",
       "  <tbody>\n",
       "    <tr>\n",
       "      <td>0</td>\n",
       "      <td>Abundance</td>\n",
       "      <td>G</td>\n",
       "      <td>Enchantment</td>\n",
       "      <td>If you would draw a card, you may instead choo...</td>\n",
       "    </tr>\n",
       "    <tr>\n",
       "      <td>1</td>\n",
       "      <td>Academy Researchers</td>\n",
       "      <td>U</td>\n",
       "      <td>Creature</td>\n",
       "      <td>When Academy Researchers enters the battlefiel...</td>\n",
       "    </tr>\n",
       "    <tr>\n",
       "      <td>3</td>\n",
       "      <td>Afflict</td>\n",
       "      <td>B</td>\n",
       "      <td>Instant</td>\n",
       "      <td>Target creature gets -1/-1 until end of turn.\\...</td>\n",
       "    </tr>\n",
       "    <tr>\n",
       "      <td>4</td>\n",
       "      <td>Aggressive Urge</td>\n",
       "      <td>G</td>\n",
       "      <td>Instant</td>\n",
       "      <td>Target creature gets +1/+1 until end of turn.\\...</td>\n",
       "    </tr>\n",
       "    <tr>\n",
       "      <td>5</td>\n",
       "      <td>Agonizing Memories</td>\n",
       "      <td>B</td>\n",
       "      <td>Sorcery</td>\n",
       "      <td>Look at target player's hand and choose two ca...</td>\n",
       "    </tr>\n",
       "  </tbody>\n",
       "</table>\n",
       "</div>"
      ],
      "text/plain": [
       "                  name colorIdentity        types  \\\n",
       "0            Abundance             G  Enchantment   \n",
       "1  Academy Researchers             U     Creature   \n",
       "3              Afflict             B      Instant   \n",
       "4      Aggressive Urge             G      Instant   \n",
       "5   Agonizing Memories             B      Sorcery   \n",
       "\n",
       "                                                text  \n",
       "0  If you would draw a card, you may instead choo...  \n",
       "1  When Academy Researchers enters the battlefiel...  \n",
       "3  Target creature gets -1/-1 until end of turn.\\...  \n",
       "4  Target creature gets +1/+1 until end of turn.\\...  \n",
       "5  Look at target player's hand and choose two ca...  "
      ]
     },
     "execution_count": 9,
     "metadata": {},
     "output_type": "execute_result"
    }
   ],
   "source": [
    "df_color.head()"
   ]
  },
  {
   "cell_type": "code",
   "execution_count": 10,
   "metadata": {},
   "outputs": [
    {
     "data": {
      "text/html": [
       "<div>\n",
       "<style scoped>\n",
       "    .dataframe tbody tr th:only-of-type {\n",
       "        vertical-align: middle;\n",
       "    }\n",
       "\n",
       "    .dataframe tbody tr th {\n",
       "        vertical-align: top;\n",
       "    }\n",
       "\n",
       "    .dataframe thead th {\n",
       "        text-align: right;\n",
       "    }\n",
       "</style>\n",
       "<table border=\"1\" class=\"dataframe\">\n",
       "  <thead>\n",
       "    <tr style=\"text-align: right;\">\n",
       "      <th></th>\n",
       "      <th>name</th>\n",
       "      <th>colorIdentity</th>\n",
       "      <th>types</th>\n",
       "      <th>text</th>\n",
       "    </tr>\n",
       "  </thead>\n",
       "  <tbody>\n",
       "    <tr>\n",
       "      <td>0</td>\n",
       "      <td>Abundance</td>\n",
       "      <td>G</td>\n",
       "      <td>Enchantment</td>\n",
       "      <td>If you would draw a card, you may instead choo...</td>\n",
       "    </tr>\n",
       "    <tr>\n",
       "      <td>1</td>\n",
       "      <td>Academy Researchers</td>\n",
       "      <td>U</td>\n",
       "      <td>Creature</td>\n",
       "      <td>When Academy Researchers enters the battlefiel...</td>\n",
       "    </tr>\n",
       "    <tr>\n",
       "      <td>2</td>\n",
       "      <td>Adarkar Wastes</td>\n",
       "      <td>U,W</td>\n",
       "      <td>Land</td>\n",
       "      <td>{T}: Add {C}.\\n{T}: Add {W} or {U}. Adarkar Wa...</td>\n",
       "    </tr>\n",
       "    <tr>\n",
       "      <td>3</td>\n",
       "      <td>Afflict</td>\n",
       "      <td>B</td>\n",
       "      <td>Instant</td>\n",
       "      <td>Target creature gets -1/-1 until end of turn.\\...</td>\n",
       "    </tr>\n",
       "    <tr>\n",
       "      <td>4</td>\n",
       "      <td>Aggressive Urge</td>\n",
       "      <td>G</td>\n",
       "      <td>Instant</td>\n",
       "      <td>Target creature gets +1/+1 until end of turn.\\...</td>\n",
       "    </tr>\n",
       "  </tbody>\n",
       "</table>\n",
       "</div>"
      ],
      "text/plain": [
       "                  name colorIdentity        types  \\\n",
       "0            Abundance             G  Enchantment   \n",
       "1  Academy Researchers             U     Creature   \n",
       "2       Adarkar Wastes           U,W         Land   \n",
       "3              Afflict             B      Instant   \n",
       "4      Aggressive Urge             G      Instant   \n",
       "\n",
       "                                                text  \n",
       "0  If you would draw a card, you may instead choo...  \n",
       "1  When Academy Researchers enters the battlefiel...  \n",
       "2  {T}: Add {C}.\\n{T}: Add {W} or {U}. Adarkar Wa...  \n",
       "3  Target creature gets -1/-1 until end of turn.\\...  \n",
       "4  Target creature gets +1/+1 until end of turn.\\...  "
      ]
     },
     "execution_count": 10,
     "metadata": {},
     "output_type": "execute_result"
    }
   ],
   "source": [
    "df_type.head()"
   ]
  },
  {
   "cell_type": "code",
   "execution_count": 11,
   "metadata": {},
   "outputs": [
    {
     "data": {
      "text/plain": [
       "(43937, 4)"
      ]
     },
     "execution_count": 11,
     "metadata": {},
     "output_type": "execute_result"
    }
   ],
   "source": [
    "df.shape"
   ]
  },
  {
   "cell_type": "code",
   "execution_count": 12,
   "metadata": {},
   "outputs": [],
   "source": [
    "df = df[df.text.notna()]"
   ]
  },
  {
   "cell_type": "code",
   "execution_count": 13,
   "metadata": {},
   "outputs": [
    {
     "data": {
      "text/plain": [
       "(43937, 4)"
      ]
     },
     "execution_count": 13,
     "metadata": {},
     "output_type": "execute_result"
    }
   ],
   "source": [
    "df.shape"
   ]
  },
  {
   "cell_type": "code",
   "execution_count": null,
   "metadata": {},
   "outputs": [],
   "source": []
  }
 ],
 "metadata": {
  "kernelspec": {
   "display_name": "Python 3",
   "language": "python",
   "name": "python3"
  },
  "language_info": {
   "codemirror_mode": {
    "name": "ipython",
    "version": 3
   },
   "file_extension": ".py",
   "mimetype": "text/x-python",
   "name": "python",
   "nbconvert_exporter": "python",
   "pygments_lexer": "ipython3",
   "version": "3.7.4"
  }
 },
 "nbformat": 4,
 "nbformat_minor": 2
}
