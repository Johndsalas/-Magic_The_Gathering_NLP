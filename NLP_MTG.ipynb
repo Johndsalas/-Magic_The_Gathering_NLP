{
 "cells": [
  {
   "cell_type": "markdown",
   "metadata": {},
   "source": [
    "# Goals:\n",
    "\n",
    "**1. Develop a natural language processor capable of predicting the COLOR of a magic card based on the rules text of that card.**\n",
    "\n",
    "**2. Develop a natural language processor capable of predicting the TYPE of a magic card based on the rules text of that card.**"
   ]
  },
  {
   "cell_type": "code",
   "execution_count": 1,
   "metadata": {},
   "outputs": [],
   "source": [
    "# imports and display options\n",
    "\n",
    "import pandas as pd\n",
    "import numpy as np\n",
    "import math\n",
    "from math import sqrt\n",
    "\n",
    "from sklearn.preprocessing import LabelEncoder, OneHotEncoder\n",
    "from sklearn.linear_model import LinearRegression\n",
    "from sklearn.metrics import mean_squared_error, explained_variance_score\n",
    "\n",
    "import seaborn as sns\n",
    "import matplotlib.pyplot as plt\n",
    "%matplotlib inline\n",
    "\n",
    "import warnings\n",
    "warnings.filterwarnings(\"ignore\")\n",
    "\n",
    "import unicodedata\n",
    "import re\n",
    "import nltk\n",
    "from nltk.corpus import stopwords\n",
    "\n",
    "import prepare as p\n",
    "# import explore as e\n",
    "# import model as m\n",
    "\n",
    "pd.set_option('display.max_colwidth', -1)"
   ]
  },
  {
   "cell_type": "markdown",
   "metadata": {},
   "source": [
    "# Acquire\n",
    "\n",
    "* Used file from previouse \n",
    "* A CSV, containing an up to date breakdown of each card that has been printed so far, was obtained from MTGJSON.com\n",
    "* Each row represents a card or a version of a card\n",
    "* The CSV was read into a pandas dataframe\n",
    "* The original dataframe contained 51,430 rows and 73 columns"
   ]
  },
  {
   "cell_type": "markdown",
   "metadata": {},
   "source": [
    "# Prepare\n",
    "\n",
    "The following steps were taken to prepare the data:\n",
    "\n",
    "1. Restricted dataframe to relevant columns\n",
    " \n",
    "2. Restricted dataframe to rows containing cards that exist in physical form\n",
    "\n",
    "3. Restricted dataframe to rows containing a value for 'text'\n",
    "\n",
    "4. Restricted dataframe to rows with a single 'color identity' (see data dictionary Color)\n",
    "\n",
    "5. Dropped all columns other than text and color\n",
    "\n",
    "6. Renamed columns\n",
    "\n",
    "7. Changed some of the symble represintations to words to make them machine readable\n",
    "\n",
    "8. Applied basic cleaning to values in text by, lowercasing letters, converting to ASCII characters, removing non-letter characters, lemmatizeing the words, and removing stopwords\n",
    "\n",
    "9. Dropped duplicate rows\n",
    "\n",
    "10. Changed column order\n",
    "\n",
    "11. Wrote prepared data to ‘mtgprep.csv’ for ease of access. Data consisted of 15380 rows and two columns.\n",
    "\n",
    "12. Created a test and train group at a 20/80 split"
   ]
  },
  {
   "cell_type": "markdown",
   "metadata": {},
   "source": [
    "## Data Dictionary:\n",
    "\n",
    "* Magic: The Gathering\n",
    "    * a collectable card game developed by Wizards of the Coast Inc. In a typical game, each player combines a selection of cards from their collection into his or her own deck, which they use to compete against other players. Thematically, players assume the roles of powerful mages fighting for supremacy. Cards in each players deck represent spells and other resources each player’s disposal. A game typically ends when all but one of the participating players is reduced to zero “life” or is otherwise eliminated from the game.\n",
    "\n",
    "### Columns\n",
    "\n",
    "* Color\n",
    "    * Spells players can cast are divided into five different colors Each color is thematically distinct\n",
    "    * White represents order and morality\n",
    "    * Blue represents cunning and technology\n",
    "    * Black represents pragmatism and amorality\n",
    "    * Red represents impulse and chaos\n",
    "    * Green represents nature and instinct\n",
    "    * Spells with more than one color were excluded for the study to give a clearer picture of sentiment values for each color\n",
    "    * The color or colors each spell had was determined by the color of mana symbols that appear on each card, also called its color identity\n",
    "    <br />   \n",
    "    \n",
    "    \n",
    "* Text\n",
    "    * The value in text represents the rules text appearing on one Magic the Gathering card"
   ]
  },
  {
   "cell_type": "code",
   "execution_count": 2,
   "metadata": {},
   "outputs": [],
   "source": [
    "df = p.get_preped_data()"
   ]
  },
  {
   "cell_type": "code",
   "execution_count": 3,
   "metadata": {},
   "outputs": [
    {
     "data": {
      "text/plain": [
       "(15380, 2)"
      ]
     },
     "execution_count": 3,
     "metadata": {},
     "output_type": "execute_result"
    }
   ],
   "source": [
    "df.shape"
   ]
  },
  {
   "cell_type": "code",
   "execution_count": 5,
   "metadata": {},
   "outputs": [
    {
     "data": {
      "text/html": [
       "<div>\n",
       "<style scoped>\n",
       "    .dataframe tbody tr th:only-of-type {\n",
       "        vertical-align: middle;\n",
       "    }\n",
       "\n",
       "    .dataframe tbody tr th {\n",
       "        vertical-align: top;\n",
       "    }\n",
       "\n",
       "    .dataframe thead th {\n",
       "        text-align: right;\n",
       "    }\n",
       "</style>\n",
       "<table border=\"1\" class=\"dataframe\">\n",
       "  <thead>\n",
       "    <tr style=\"text-align: right;\">\n",
       "      <th></th>\n",
       "      <th>color</th>\n",
       "      <th>text</th>\n",
       "    </tr>\n",
       "  </thead>\n",
       "  <tbody>\n",
       "    <tr>\n",
       "      <td>0</td>\n",
       "      <td>Green</td>\n",
       "      <td>would draw card may instead choose land nonland reveal card top library reveal card chosen kind put card hand put card revealed way bottom library order</td>\n",
       "    </tr>\n",
       "    <tr>\n",
       "      <td>1</td>\n",
       "      <td>Blue</td>\n",
       "      <td>academy researcher enters battlefield may put aura card hand onto battlefield attached academy researcher</td>\n",
       "    </tr>\n",
       "    <tr>\n",
       "      <td>3</td>\n",
       "      <td>Black</td>\n",
       "      <td>target creature get minusandminus end turn draw card</td>\n",
       "    </tr>\n",
       "    <tr>\n",
       "      <td>4</td>\n",
       "      <td>Green</td>\n",
       "      <td>target creature get plusandplus end turn draw card</td>\n",
       "    </tr>\n",
       "    <tr>\n",
       "      <td>5</td>\n",
       "      <td>Black</td>\n",
       "      <td>look target player hand choose two card put top player library order</td>\n",
       "    </tr>\n",
       "    <tr>\n",
       "      <td>...</td>\n",
       "      <td>...</td>\n",
       "      <td>...</td>\n",
       "    </tr>\n",
       "    <tr>\n",
       "      <td>51412</td>\n",
       "      <td>Blue</td>\n",
       "      <td>flying whenever umara raptor another ally enters battlefield control may put plusandplus counter umara raptor</td>\n",
       "    </tr>\n",
       "    <tr>\n",
       "      <td>51413</td>\n",
       "      <td>Red</td>\n",
       "      <td>kicker redmana may pay additional redmana cast spell damage prevented turn spell kicked deal damage target player planeswalker</td>\n",
       "    </tr>\n",
       "    <tr>\n",
       "      <td>51427</td>\n",
       "      <td>White</td>\n",
       "      <td>beginning upkeep may choose card type player sacrifice permanent type</td>\n",
       "    </tr>\n",
       "    <tr>\n",
       "      <td>51428</td>\n",
       "      <td>Red</td>\n",
       "      <td>landfall whenever land enters battlefield control may put quest counter zektar shrine expedition remove three quest counter zektar shrine expedition sacrifice create red elemental creature token trample haste exile beginning next end step</td>\n",
       "    </tr>\n",
       "    <tr>\n",
       "      <td>51429</td>\n",
       "      <td>Green</td>\n",
       "      <td>forestwalk creature blocked long defending player control forest</td>\n",
       "    </tr>\n",
       "  </tbody>\n",
       "</table>\n",
       "<p>15380 rows × 2 columns</p>\n",
       "</div>"
      ],
      "text/plain": [
       "       color  \\\n",
       "0      Green   \n",
       "1      Blue    \n",
       "3      Black   \n",
       "4      Green   \n",
       "5      Black   \n",
       "...      ...   \n",
       "51412  Blue    \n",
       "51413  Red     \n",
       "51427  White   \n",
       "51428  Red     \n",
       "51429  Green   \n",
       "\n",
       "                                                                                                                                                                                                                                                 text  \n",
       "0      would draw card may instead choose land nonland reveal card top library reveal card chosen kind put card hand put card revealed way bottom library order                                                                                        \n",
       "1      academy researcher enters battlefield may put aura card hand onto battlefield attached academy researcher                                                                                                                                       \n",
       "3      target creature get minusandminus end turn draw card                                                                                                                                                                                            \n",
       "4      target creature get plusandplus end turn draw card                                                                                                                                                                                              \n",
       "5      look target player hand choose two card put top player library order                                                                                                                                                                            \n",
       "...                                                                     ...                                                                                                                                                                            \n",
       "51412  flying whenever umara raptor another ally enters battlefield control may put plusandplus counter umara raptor                                                                                                                                   \n",
       "51413  kicker redmana may pay additional redmana cast spell damage prevented turn spell kicked deal damage target player planeswalker                                                                                                                  \n",
       "51427  beginning upkeep may choose card type player sacrifice permanent type                                                                                                                                                                           \n",
       "51428  landfall whenever land enters battlefield control may put quest counter zektar shrine expedition remove three quest counter zektar shrine expedition sacrifice create red elemental creature token trample haste exile beginning next end step  \n",
       "51429  forestwalk creature blocked long defending player control forest                                                                                                                                                                                \n",
       "\n",
       "[15380 rows x 2 columns]"
      ]
     },
     "execution_count": 5,
     "metadata": {},
     "output_type": "execute_result"
    }
   ],
   "source": [
    "df"
   ]
  },
  {
   "cell_type": "code",
   "execution_count": null,
   "metadata": {},
   "outputs": [],
   "source": []
  },
  {
   "cell_type": "code",
   "execution_count": null,
   "metadata": {},
   "outputs": [],
   "source": [
    "\n"
   ]
  },
  {
   "cell_type": "code",
   "execution_count": null,
   "metadata": {},
   "outputs": [],
   "source": []
  },
  {
   "cell_type": "code",
   "execution_count": null,
   "metadata": {},
   "outputs": [],
   "source": []
  },
  {
   "cell_type": "code",
   "execution_count": null,
   "metadata": {},
   "outputs": [],
   "source": []
  }
 ],
 "metadata": {
  "kernelspec": {
   "display_name": "Python 3",
   "language": "python",
   "name": "python3"
  },
  "language_info": {
   "codemirror_mode": {
    "name": "ipython",
    "version": 3
   },
   "file_extension": ".py",
   "mimetype": "text/x-python",
   "name": "python",
   "nbconvert_exporter": "python",
   "pygments_lexer": "ipython3",
   "version": "3.7.4"
  }
 },
 "nbformat": 4,
 "nbformat_minor": 2
}
