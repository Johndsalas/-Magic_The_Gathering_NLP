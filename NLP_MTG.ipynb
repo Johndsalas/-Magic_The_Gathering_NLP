{
 "cells": [
  {
   "cell_type": "markdown",
   "metadata": {},
   "source": [
    "# Goals:\n",
    "\n",
    "**1. Develop a natural language processor capable of predicting the COLOR of a magic card based on the rules text of that card.**\n",
    "\n",
    "**2. Develop a natural language processor capable of predicting the TYPE of a magic card based on the rules text of that card.**"
   ]
  },
  {
   "cell_type": "code",
   "execution_count": 2,
   "metadata": {},
   "outputs": [],
   "source": [
    "# imports and display options\n",
    "import pandas as pd\n",
    "import numpy as np\n",
    "import math\n",
    "from math import sqrt\n",
    "\n",
    "from sklearn.preprocessing import LabelEncoder, OneHotEncoder\n",
    "from sklearn.linear_model import LinearRegression\n",
    "from sklearn.metrics import mean_squared_error, explained_variance_score\n",
    "\n",
    "import seaborn as sns\n",
    "import matplotlib.pyplot as plt\n",
    "%matplotlib inline\n",
    "\n",
    "import warnings\n",
    "warnings.filterwarnings(\"ignore\")\n",
    "\n",
    "# import prepare as p\n",
    "# import explore as e\n",
    "# import model as m\n",
    "\n",
    "pd.set_option('display.max_colwidth', -1)"
   ]
  },
  {
   "cell_type": "markdown",
   "metadata": {},
   "source": [
    "# Acquire\n",
    "\n",
    "* Used file from previouse \n",
    "* A CSV, containing an up to date breakdown of each card that has been printed so far, was obtained from MTGJSON.com\n",
    "* Each row represents a card or a version of a card\n",
    "* The CSV was read into a pandas dataframe\n",
    "* The original dataframe contained 50,412 rows and 71 columns"
   ]
  },
  {
   "cell_type": "markdown",
   "metadata": {},
   "source": [
    "# Prepare (beginning)\n",
    "\n",
    "The following steps were taken to prepare the data:\n",
    "\n",
    "1. Restricted dataframe to relevant columns\n",
    " \n",
    "2. Restricted dataframe to rows containing cards that exist in physical form\n",
    "\n",
    "3. Restricted dataframe to row containing a flavor text\n",
    "\n",
    "4. Restricted dataframe to rows with a single 'color identity' (see data dictionary Color)\n",
    "\n",
    "5. Merged rows containing multiple similer types into one of the seven major game types\n",
    "\n",
    "6. Dropped rows containing multiple types that could not be merged\n",
    "\n",
    "7. Cleaned up flavor text by removing quote attributions so could merge on flavor text and eliminate most of the duplicates \n",
    "\n",
    "8. Reordered columns\n",
    "\n",
    "9. Dropped rows where the flavor text was not in english \n",
    "\n",
    "10. Dropped duplicate rows (I dropped all that I could find it is possible that some duplicates remain.)\n",
    "\n",
    "11. Added sentiment column showing compound sentiment score using VADER\n",
    "\n",
    "12. Added intensity column showing the absolute value of sentiment\n",
    "\n",
    "13. Renamed columns\n",
    "\n",
    "14. Rounded number values in the data frame to two decimals\t\n",
    "\n",
    "15. Wrote prepared data to ‘mtgprep.csv’ for ease of access"
   ]
  },
  {
   "cell_type": "code",
   "execution_count": null,
   "metadata": {},
   "outputs": [],
   "source": []
  }
 ],
 "metadata": {
  "kernelspec": {
   "display_name": "Python 3",
   "language": "python",
   "name": "python3"
  },
  "language_info": {
   "codemirror_mode": {
    "name": "ipython",
    "version": 3
   },
   "file_extension": ".py",
   "mimetype": "text/x-python",
   "name": "python",
   "nbconvert_exporter": "python",
   "pygments_lexer": "ipython3",
   "version": "3.7.4"
  }
 },
 "nbformat": 4,
 "nbformat_minor": 2
}
